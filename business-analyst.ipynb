{
 "cells": [
  {
   "cell_type": "code",
   "execution_count": 19,
   "metadata": {},
   "outputs": [],
   "source": [
    "import pandas as pd\n",
    "import re\n",
    "import numpy as np\n",
    "# import matplotlib\n",
    "import matplotlib.pyplot as plt\n",
    "from matplotlib.pyplot import figure\n",
    "import seaborn as sns\n",
    "import copy"
   ]
  },
  {
   "cell_type": "code",
   "execution_count": 20,
   "metadata": {},
   "outputs": [
    {
     "data": {
      "text/plain": [
       "<Figure size 500x500 with 0 Axes>"
      ]
     },
     "execution_count": 20,
     "metadata": {},
     "output_type": "execute_result"
    },
    {
     "data": {
      "text/plain": [
       "<Figure size 500x500 with 0 Axes>"
      ]
     },
     "metadata": {},
     "output_type": "display_data"
    }
   ],
   "source": [
    "# Set the max no. of rows displayed to unlimited\n",
    "pd.set_option('display.max_rows', None)\n",
    "%matplotlib inline\n",
    "figure(figsize=(5, 5), dpi=100)"
   ]
  },
  {
   "cell_type": "code",
   "execution_count": 21,
   "metadata": {},
   "outputs": [],
   "source": [
    "# import the csv from the job scraping program\n",
    "job_title = \"business-analyst\"\n",
    "df = pd.read_csv(f\"./jobs/{job_title}.csv\")"
   ]
  },
  {
   "cell_type": "code",
   "execution_count": 22,
   "metadata": {},
   "outputs": [
    {
     "data": {
      "text/html": [
       "<div>\n",
       "<style scoped>\n",
       "    .dataframe tbody tr th:only-of-type {\n",
       "        vertical-align: middle;\n",
       "    }\n",
       "\n",
       "    .dataframe tbody tr th {\n",
       "        vertical-align: top;\n",
       "    }\n",
       "\n",
       "    .dataframe thead th {\n",
       "        text-align: right;\n",
       "    }\n",
       "</style>\n",
       "<table border=\"1\" class=\"dataframe\">\n",
       "  <thead>\n",
       "    <tr style=\"text-align: right;\">\n",
       "      <th></th>\n",
       "      <th>Title</th>\n",
       "      <th>Company</th>\n",
       "      <th>Min. Years of Exp. Required</th>\n",
       "      <th>Fresh Grad</th>\n",
       "      <th>Location</th>\n",
       "      <th>Classification</th>\n",
       "      <th>Salary</th>\n",
       "      <th>Posted Date</th>\n",
       "      <th>Job ID</th>\n",
       "      <th>URL</th>\n",
       "    </tr>\n",
       "  </thead>\n",
       "  <tbody>\n",
       "  </tbody>\n",
       "</table>\n",
       "</div>"
      ],
      "text/plain": [
       "Empty DataFrame\n",
       "Columns: [Title, Company, Min. Years of Exp. Required, Fresh Grad, Location, Classification, Salary, Posted Date, Job ID, URL]\n",
       "Index: []"
      ]
     },
     "execution_count": 22,
     "metadata": {},
     "output_type": "execute_result"
    }
   ],
   "source": [
    "df.head()"
   ]
  },
  {
   "cell_type": "code",
   "execution_count": 5,
   "metadata": {},
   "outputs": [
    {
     "data": {
      "text/plain": [
       "Title                          object\n",
       "Company                        object\n",
       "Min. Years of Exp. Required    object\n",
       "Fresh Grad                     object\n",
       "Location                       object\n",
       "Classification                 object\n",
       "Salary                         object\n",
       "Posted Date                    object\n",
       "Job ID                         object\n",
       "URL                            object\n",
       "dtype: object"
      ]
     },
     "execution_count": 5,
     "metadata": {},
     "output_type": "execute_result"
    }
   ],
   "source": [
    "# Inspect data types of each column in pandas\n",
    "df.dtypes"
   ]
  },
  {
   "cell_type": "code",
   "execution_count": 6,
   "metadata": {},
   "outputs": [
    {
     "data": {
      "text/html": [
       "<div>\n",
       "<style scoped>\n",
       "    .dataframe tbody tr th:only-of-type {\n",
       "        vertical-align: middle;\n",
       "    }\n",
       "\n",
       "    .dataframe tbody tr th {\n",
       "        vertical-align: top;\n",
       "    }\n",
       "\n",
       "    .dataframe thead th {\n",
       "        text-align: right;\n",
       "    }\n",
       "</style>\n",
       "<table border=\"1\" class=\"dataframe\">\n",
       "  <thead>\n",
       "    <tr style=\"text-align: right;\">\n",
       "      <th></th>\n",
       "      <th>Title</th>\n",
       "      <th>Company</th>\n",
       "      <th>Min. Years of Exp. Required</th>\n",
       "      <th>Fresh Grad</th>\n",
       "      <th>Location</th>\n",
       "      <th>Classification</th>\n",
       "      <th>Salary</th>\n",
       "      <th>Posted Date</th>\n",
       "      <th>Job ID</th>\n",
       "      <th>URL</th>\n",
       "    </tr>\n",
       "  </thead>\n",
       "  <tbody>\n",
       "    <tr>\n",
       "      <th>count</th>\n",
       "      <td>0</td>\n",
       "      <td>0</td>\n",
       "      <td>0</td>\n",
       "      <td>0</td>\n",
       "      <td>0</td>\n",
       "      <td>0</td>\n",
       "      <td>0</td>\n",
       "      <td>0</td>\n",
       "      <td>0</td>\n",
       "      <td>0</td>\n",
       "    </tr>\n",
       "    <tr>\n",
       "      <th>unique</th>\n",
       "      <td>0</td>\n",
       "      <td>0</td>\n",
       "      <td>0</td>\n",
       "      <td>0</td>\n",
       "      <td>0</td>\n",
       "      <td>0</td>\n",
       "      <td>0</td>\n",
       "      <td>0</td>\n",
       "      <td>0</td>\n",
       "      <td>0</td>\n",
       "    </tr>\n",
       "    <tr>\n",
       "      <th>top</th>\n",
       "      <td>NaN</td>\n",
       "      <td>NaN</td>\n",
       "      <td>NaN</td>\n",
       "      <td>NaN</td>\n",
       "      <td>NaN</td>\n",
       "      <td>NaN</td>\n",
       "      <td>NaN</td>\n",
       "      <td>NaN</td>\n",
       "      <td>NaN</td>\n",
       "      <td>NaN</td>\n",
       "    </tr>\n",
       "    <tr>\n",
       "      <th>freq</th>\n",
       "      <td>NaN</td>\n",
       "      <td>NaN</td>\n",
       "      <td>NaN</td>\n",
       "      <td>NaN</td>\n",
       "      <td>NaN</td>\n",
       "      <td>NaN</td>\n",
       "      <td>NaN</td>\n",
       "      <td>NaN</td>\n",
       "      <td>NaN</td>\n",
       "      <td>NaN</td>\n",
       "    </tr>\n",
       "  </tbody>\n",
       "</table>\n",
       "</div>"
      ],
      "text/plain": [
       "       Title Company Min. Years of Exp. Required Fresh Grad Location  \\\n",
       "count      0       0                           0          0        0   \n",
       "unique     0       0                           0          0        0   \n",
       "top      NaN     NaN                         NaN        NaN      NaN   \n",
       "freq     NaN     NaN                         NaN        NaN      NaN   \n",
       "\n",
       "       Classification Salary Posted Date Job ID  URL  \n",
       "count               0      0           0      0    0  \n",
       "unique              0      0           0      0    0  \n",
       "top               NaN    NaN         NaN    NaN  NaN  \n",
       "freq              NaN    NaN         NaN    NaN  NaN  "
      ]
     },
     "execution_count": 6,
     "metadata": {},
     "output_type": "execute_result"
    }
   ],
   "source": [
    "# Inspect the descriptive statistics of data\n",
    "df.describe()\n",
    "\n",
    "# **the result is not very helpful**"
   ]
  },
  {
   "cell_type": "code",
   "execution_count": 7,
   "metadata": {},
   "outputs": [
    {
     "name": "stdout",
     "output_type": "stream",
     "text": [
      "Title - nan%\n",
      "Company - nan%\n",
      "Min. Years of Exp. Required - nan%\n",
      "Fresh Grad - nan%\n",
      "Location - nan%\n",
      "Classification - nan%\n",
      "Salary - nan%\n",
      "Posted Date - nan%\n",
      "Job ID - nan%\n",
      "URL - nan%\n"
     ]
    }
   ],
   "source": [
    "# Check for missing data\n",
    "\n",
    "for col in df.columns:\n",
    "    percentage_missing = round(np.mean(df[col].isnull()), 2)\n",
    "    print(\"{0} - {1}%\".format(col, percentage_missing))\n",
    "\n",
    "# **some values are missing in the \"Min. Years of Exp. Required\" column**"
   ]
  },
  {
   "cell_type": "code",
   "execution_count": 8,
   "metadata": {},
   "outputs": [],
   "source": [
    "# Convert the dtype of the \"Min. Years of Exp. Required\" column from float64 to Int64\n",
    "# the dtype \"Int64\" allows for null values, while \"int64\" does not\n",
    "df[\"Min. Years of Exp. Required\"] = df[\"Min. Years of Exp. Required\"].astype(\"Int64\")"
   ]
  },
  {
   "cell_type": "code",
   "execution_count": 9,
   "metadata": {},
   "outputs": [
    {
     "data": {
      "text/html": [
       "<div>\n",
       "<style scoped>\n",
       "    .dataframe tbody tr th:only-of-type {\n",
       "        vertical-align: middle;\n",
       "    }\n",
       "\n",
       "    .dataframe tbody tr th {\n",
       "        vertical-align: top;\n",
       "    }\n",
       "\n",
       "    .dataframe thead th {\n",
       "        text-align: right;\n",
       "    }\n",
       "</style>\n",
       "<table border=\"1\" class=\"dataframe\">\n",
       "  <thead>\n",
       "    <tr style=\"text-align: right;\">\n",
       "      <th></th>\n",
       "      <th>Title</th>\n",
       "      <th>Company</th>\n",
       "      <th>Min. Years of Exp. Required</th>\n",
       "      <th>Fresh Grad</th>\n",
       "      <th>Location</th>\n",
       "      <th>Classification</th>\n",
       "      <th>Salary</th>\n",
       "      <th>Posted Date</th>\n",
       "      <th>Job ID</th>\n",
       "      <th>URL</th>\n",
       "    </tr>\n",
       "  </thead>\n",
       "  <tbody>\n",
       "  </tbody>\n",
       "</table>\n",
       "</div>"
      ],
      "text/plain": [
       "Empty DataFrame\n",
       "Columns: [Title, Company, Min. Years of Exp. Required, Fresh Grad, Location, Classification, Salary, Posted Date, Job ID, URL]\n",
       "Index: []"
      ]
     },
     "execution_count": 9,
     "metadata": {},
     "output_type": "execute_result"
    }
   ],
   "source": [
    "df.head()"
   ]
  },
  {
   "cell_type": "code",
   "execution_count": 10,
   "metadata": {},
   "outputs": [
    {
     "name": "stdout",
     "output_type": "stream",
     "text": [
      "0\n",
      "0\n"
     ]
    }
   ],
   "source": [
    "# Drop duplicate values if there's any \n",
    "# the data should NOT have any duplicates since the scraper\n",
    "# program should have only included jobs that are unique\n",
    "\n",
    "# the two outputs below SHOULD match\n",
    "print(len(df[\"Job ID\"].drop_duplicates()))\n",
    "print(len(df[\"Job ID\"]))\n",
    "\n",
    "# **and they do match, no duplicates were dropped**"
   ]
  },
  {
   "cell_type": "code",
   "execution_count": 11,
   "metadata": {},
   "outputs": [
    {
     "ename": "ValueError",
     "evalue": "Columns must be same length as key",
     "output_type": "error",
     "traceback": [
      "\u001b[0;31m---------------------------------------------------------------------------\u001b[0m",
      "\u001b[0;31mValueError\u001b[0m                                Traceback (most recent call last)",
      "Cell \u001b[0;32mIn[11], line 39\u001b[0m\n\u001b[1;32m     36\u001b[0m             full_location[\u001b[38;5;124m\"\u001b[39m\u001b[38;5;124mArea\u001b[39m\u001b[38;5;124m\"\u001b[39m] \u001b[38;5;241m=\u001b[39m identify_area(district_stripped\u001b[38;5;241m.\u001b[39mlower())\n\u001b[1;32m     37\u001b[0m     \u001b[38;5;28;01mreturn\u001b[39;00m full_location\n\u001b[0;32m---> 39\u001b[0m \u001b[43mdf\u001b[49m\u001b[43m[\u001b[49m\u001b[43m[\u001b[49m\u001b[38;5;124;43m\"\u001b[39;49m\u001b[38;5;124;43mExaction Location\u001b[39;49m\u001b[38;5;124;43m\"\u001b[39;49m\u001b[43m,\u001b[49m\u001b[43m \u001b[49m\u001b[38;5;124;43m\"\u001b[39;49m\u001b[38;5;124;43mDistrict\u001b[39;49m\u001b[38;5;124;43m\"\u001b[39;49m\u001b[43m,\u001b[49m\u001b[43m \u001b[49m\u001b[38;5;124;43m\"\u001b[39;49m\u001b[38;5;124;43mArea\u001b[39;49m\u001b[38;5;124;43m\"\u001b[39;49m\u001b[43m]\u001b[49m\u001b[43m]\u001b[49m \u001b[38;5;241m=\u001b[39m df\u001b[38;5;241m.\u001b[39mapply(\u001b[38;5;28;01mlambda\u001b[39;00m row: clean_location(row[\u001b[38;5;124m\"\u001b[39m\u001b[38;5;124mLocation\u001b[39m\u001b[38;5;124m\"\u001b[39m]), axis\u001b[38;5;241m=\u001b[39m\u001b[38;5;124m\"\u001b[39m\u001b[38;5;124mcolumns\u001b[39m\u001b[38;5;124m\"\u001b[39m, result_type\u001b[38;5;241m=\u001b[39m\u001b[38;5;124m\"\u001b[39m\u001b[38;5;124mexpand\u001b[39m\u001b[38;5;124m\"\u001b[39m)\n",
      "File \u001b[0;32m~/Desktop/data/job/.conda/lib/python3.11/site-packages/pandas/core/frame.py:4299\u001b[0m, in \u001b[0;36mDataFrame.__setitem__\u001b[0;34m(self, key, value)\u001b[0m\n\u001b[1;32m   4297\u001b[0m     \u001b[38;5;28mself\u001b[39m\u001b[38;5;241m.\u001b[39m_setitem_frame(key, value)\n\u001b[1;32m   4298\u001b[0m \u001b[38;5;28;01melif\u001b[39;00m \u001b[38;5;28misinstance\u001b[39m(key, (Series, np\u001b[38;5;241m.\u001b[39mndarray, \u001b[38;5;28mlist\u001b[39m, Index)):\n\u001b[0;32m-> 4299\u001b[0m     \u001b[38;5;28;43mself\u001b[39;49m\u001b[38;5;241;43m.\u001b[39;49m\u001b[43m_setitem_array\u001b[49m\u001b[43m(\u001b[49m\u001b[43mkey\u001b[49m\u001b[43m,\u001b[49m\u001b[43m \u001b[49m\u001b[43mvalue\u001b[49m\u001b[43m)\u001b[49m\n\u001b[1;32m   4300\u001b[0m \u001b[38;5;28;01melif\u001b[39;00m \u001b[38;5;28misinstance\u001b[39m(value, DataFrame):\n\u001b[1;32m   4301\u001b[0m     \u001b[38;5;28mself\u001b[39m\u001b[38;5;241m.\u001b[39m_set_item_frame_value(key, value)\n",
      "File \u001b[0;32m~/Desktop/data/job/.conda/lib/python3.11/site-packages/pandas/core/frame.py:4341\u001b[0m, in \u001b[0;36mDataFrame._setitem_array\u001b[0;34m(self, key, value)\u001b[0m\n\u001b[1;32m   4336\u001b[0m \u001b[38;5;28;01melse\u001b[39;00m:\n\u001b[1;32m   4337\u001b[0m     \u001b[38;5;66;03m# Note: unlike self.iloc[:, indexer] = value, this will\u001b[39;00m\n\u001b[1;32m   4338\u001b[0m     \u001b[38;5;66;03m#  never try to overwrite values inplace\u001b[39;00m\n\u001b[1;32m   4340\u001b[0m     \u001b[38;5;28;01mif\u001b[39;00m \u001b[38;5;28misinstance\u001b[39m(value, DataFrame):\n\u001b[0;32m-> 4341\u001b[0m         \u001b[43mcheck_key_length\u001b[49m\u001b[43m(\u001b[49m\u001b[38;5;28;43mself\u001b[39;49m\u001b[38;5;241;43m.\u001b[39;49m\u001b[43mcolumns\u001b[49m\u001b[43m,\u001b[49m\u001b[43m \u001b[49m\u001b[43mkey\u001b[49m\u001b[43m,\u001b[49m\u001b[43m \u001b[49m\u001b[43mvalue\u001b[49m\u001b[43m)\u001b[49m\n\u001b[1;32m   4342\u001b[0m         \u001b[38;5;28;01mfor\u001b[39;00m k1, k2 \u001b[38;5;129;01min\u001b[39;00m \u001b[38;5;28mzip\u001b[39m(key, value\u001b[38;5;241m.\u001b[39mcolumns):\n\u001b[1;32m   4343\u001b[0m             \u001b[38;5;28mself\u001b[39m[k1] \u001b[38;5;241m=\u001b[39m value[k2]\n",
      "File \u001b[0;32m~/Desktop/data/job/.conda/lib/python3.11/site-packages/pandas/core/indexers/utils.py:390\u001b[0m, in \u001b[0;36mcheck_key_length\u001b[0;34m(columns, key, value)\u001b[0m\n\u001b[1;32m    388\u001b[0m \u001b[38;5;28;01mif\u001b[39;00m columns\u001b[38;5;241m.\u001b[39mis_unique:\n\u001b[1;32m    389\u001b[0m     \u001b[38;5;28;01mif\u001b[39;00m \u001b[38;5;28mlen\u001b[39m(value\u001b[38;5;241m.\u001b[39mcolumns) \u001b[38;5;241m!=\u001b[39m \u001b[38;5;28mlen\u001b[39m(key):\n\u001b[0;32m--> 390\u001b[0m         \u001b[38;5;28;01mraise\u001b[39;00m \u001b[38;5;167;01mValueError\u001b[39;00m(\u001b[38;5;124m\"\u001b[39m\u001b[38;5;124mColumns must be same length as key\u001b[39m\u001b[38;5;124m\"\u001b[39m)\n\u001b[1;32m    391\u001b[0m \u001b[38;5;28;01melse\u001b[39;00m:\n\u001b[1;32m    392\u001b[0m     \u001b[38;5;66;03m# Missing keys in columns are represented as -1\u001b[39;00m\n\u001b[1;32m    393\u001b[0m     \u001b[38;5;28;01mif\u001b[39;00m \u001b[38;5;28mlen\u001b[39m(columns\u001b[38;5;241m.\u001b[39mget_indexer_non_unique(key)[\u001b[38;5;241m0\u001b[39m]) \u001b[38;5;241m!=\u001b[39m \u001b[38;5;28mlen\u001b[39m(value\u001b[38;5;241m.\u001b[39mcolumns):\n",
      "\u001b[0;31mValueError\u001b[0m: Columns must be same length as key"
     ]
    }
   ],
   "source": [
    "def identify_area(district):\n",
    "    area_district_full_dict = {\n",
    "        \"hong kong\": (\"central and western\", \"wan chai\", \"eastern\", \"southern\", \"hong kong island\"),\n",
    "        \"kowloon\": (\"yau tsim mong\", \"sham shui po\", \"kowloon city\", \"wong tai sin\", \"kwun tong\"),\n",
    "        \"new territories\": (\"kwai tsing\", \"tsuen wan\", \"tuen mun\", \"yuen long\", \"north\", \"tai po\", \"sha tin\", \"sai kung\", \"islands\")\n",
    "        }\n",
    "    \n",
    "    for area, districts in area_district_full_dict.items():\n",
    "\n",
    "        if district in districts:\n",
    "            return area.title()\n",
    "    return None\n",
    "\n",
    "def clean_location(location):\n",
    "    full_location = dict.fromkeys([\"Exact Location\", \"District\", \"Area\"], None)\n",
    "\n",
    "    location_split = [loc.strip() for loc in location.split(\",\")]\n",
    "    if len(location_split) > 1:\n",
    "        district_stripped = location_split[1].split(\" District\")[0]\n",
    "\n",
    "        full_location[\"Exact Location\"] = location_split[0]\n",
    "        full_location[\"District\"] = district_stripped\n",
    "        full_location[\"Area\"] = identify_area(district_stripped.lower())\n",
    "        print(full_location[\"Area\"])\n",
    "    else:\n",
    "        areas = (\"hong kong\", \"kowloon\", \"new territories\", \"others\")\n",
    "        district_stripped = location.split(\" District\")[0]\n",
    "\n",
    "        # if any(area in location.lower() for area in areas):\n",
    "        if any(area == location.lower() for area in areas):\n",
    "            full_location[\"Area\"] = location\n",
    "        else:\n",
    "            full_location[\"District\"] = district_stripped\n",
    "\n",
    "        if not full_location[\"Area\"]:\n",
    "            full_location[\"Area\"] = identify_area(district_stripped.lower())\n",
    "    return full_location\n",
    "\n",
    "df[[\"Exaction Location\", \"District\", \"Area\"]] = df.apply(lambda row: clean_location(row[\"Location\"]), axis=\"columns\", result_type=\"expand\")"
   ]
  },
  {
   "cell_type": "code",
   "execution_count": null,
   "metadata": {},
   "outputs": [
    {
     "data": {
      "text/html": [
       "<div>\n",
       "<style scoped>\n",
       "    .dataframe tbody tr th:only-of-type {\n",
       "        vertical-align: middle;\n",
       "    }\n",
       "\n",
       "    .dataframe tbody tr th {\n",
       "        vertical-align: top;\n",
       "    }\n",
       "\n",
       "    .dataframe thead th {\n",
       "        text-align: right;\n",
       "    }\n",
       "</style>\n",
       "<table border=\"1\" class=\"dataframe\">\n",
       "  <thead>\n",
       "    <tr style=\"text-align: right;\">\n",
       "      <th></th>\n",
       "      <th>Title</th>\n",
       "      <th>Company</th>\n",
       "      <th>Min. Years of Exp. Required</th>\n",
       "      <th>Fresh Grad</th>\n",
       "      <th>Location</th>\n",
       "      <th>Classification</th>\n",
       "      <th>Salary</th>\n",
       "      <th>Posting Date</th>\n",
       "      <th>Job ID</th>\n",
       "      <th>URL</th>\n",
       "      <th>Exaction Location</th>\n",
       "      <th>District</th>\n",
       "      <th>Area</th>\n",
       "    </tr>\n",
       "  </thead>\n",
       "  <tbody>\n",
       "    <tr>\n",
       "      <th>0</th>\n",
       "      <td>Business Analyst / Senior Business Analyst</td>\n",
       "      <td>PARKnSHOP (HK) Limited</td>\n",
       "      <td>4</td>\n",
       "      <td>True</td>\n",
       "      <td>Fo Tan, Sha Tin District</td>\n",
       "      <td>Retail &amp; Consumer Products</td>\n",
       "      <td>NaN</td>\n",
       "      <td>2024-06-29 18:00</td>\n",
       "      <td>76912887</td>\n",
       "      <td>https://hk.jobsdb.com/job/76912887</td>\n",
       "      <td>Fo Tan</td>\n",
       "      <td>Sha Tin</td>\n",
       "      <td>New Territories</td>\n",
       "    </tr>\n",
       "    <tr>\n",
       "      <th>1</th>\n",
       "      <td>Business Analyst</td>\n",
       "      <td>Haitong International Management Services Comp...</td>\n",
       "      <td>5</td>\n",
       "      <td>False</td>\n",
       "      <td>Southern District</td>\n",
       "      <td>Information &amp; Communication Technology</td>\n",
       "      <td>NaN</td>\n",
       "      <td>2024-06-28 18:00</td>\n",
       "      <td>76891214</td>\n",
       "      <td>https://hk.jobsdb.com/job/76891214</td>\n",
       "      <td>None</td>\n",
       "      <td>Southern</td>\n",
       "      <td>Hong Kong</td>\n",
       "    </tr>\n",
       "    <tr>\n",
       "      <th>2</th>\n",
       "      <td>Senior Business Analyst / Business Analyst</td>\n",
       "      <td>Chinachem Group</td>\n",
       "      <td>3</td>\n",
       "      <td>False</td>\n",
       "      <td>Tsuen Wan District</td>\n",
       "      <td>Marketing &amp; Communications</td>\n",
       "      <td>NaN</td>\n",
       "      <td>2024-06-29 18:00</td>\n",
       "      <td>76586784</td>\n",
       "      <td>https://hk.jobsdb.com/job/76586784</td>\n",
       "      <td>None</td>\n",
       "      <td>Tsuen Wan</td>\n",
       "      <td>New Territories</td>\n",
       "    </tr>\n",
       "    <tr>\n",
       "      <th>3</th>\n",
       "      <td>Business Analyst, Application System Team (5 d...</td>\n",
       "      <td>Delken Group Limited</td>\n",
       "      <td>5</td>\n",
       "      <td>True</td>\n",
       "      <td>Kwun Tong, Kwun Tong District</td>\n",
       "      <td>Information &amp; Communication Technology</td>\n",
       "      <td>NaN</td>\n",
       "      <td>2024-06-27 18:00</td>\n",
       "      <td>76864431</td>\n",
       "      <td>https://hk.jobsdb.com/job/76864431</td>\n",
       "      <td>Kwun Tong</td>\n",
       "      <td>Kwun Tong</td>\n",
       "      <td>Kowloon</td>\n",
       "    </tr>\n",
       "    <tr>\n",
       "      <th>4</th>\n",
       "      <td>Business Analyst (Sales Tracking &amp; Commission ...</td>\n",
       "      <td>HKT Consumer Business Group</td>\n",
       "      <td>1</td>\n",
       "      <td>False</td>\n",
       "      <td>Quarry Bay, Eastern District</td>\n",
       "      <td>Accounting</td>\n",
       "      <td>NaN</td>\n",
       "      <td>2024-06-28 18:00</td>\n",
       "      <td>76895248</td>\n",
       "      <td>https://hk.jobsdb.com/job/76895248</td>\n",
       "      <td>Quarry Bay</td>\n",
       "      <td>Eastern</td>\n",
       "      <td>Hong Kong</td>\n",
       "    </tr>\n",
       "  </tbody>\n",
       "</table>\n",
       "</div>"
      ],
      "text/plain": [
       "                                               Title  \\\n",
       "0         Business Analyst / Senior Business Analyst   \n",
       "1                                   Business Analyst   \n",
       "2         Senior Business Analyst / Business Analyst   \n",
       "3  Business Analyst, Application System Team (5 d...   \n",
       "4  Business Analyst (Sales Tracking & Commission ...   \n",
       "\n",
       "                                             Company  \\\n",
       "0                             PARKnSHOP (HK) Limited   \n",
       "1  Haitong International Management Services Comp...   \n",
       "2                                    Chinachem Group   \n",
       "3                               Delken Group Limited   \n",
       "4                        HKT Consumer Business Group   \n",
       "\n",
       "   Min. Years of Exp. Required  Fresh Grad                       Location  \\\n",
       "0                            4        True       Fo Tan, Sha Tin District   \n",
       "1                            5       False              Southern District   \n",
       "2                            3       False             Tsuen Wan District   \n",
       "3                            5        True  Kwun Tong, Kwun Tong District   \n",
       "4                            1       False   Quarry Bay, Eastern District   \n",
       "\n",
       "                           Classification Salary      Posting Date    Job ID  \\\n",
       "0              Retail & Consumer Products    NaN  2024-06-29 18:00  76912887   \n",
       "1  Information & Communication Technology    NaN  2024-06-28 18:00  76891214   \n",
       "2              Marketing & Communications    NaN  2024-06-29 18:00  76586784   \n",
       "3  Information & Communication Technology    NaN  2024-06-27 18:00  76864431   \n",
       "4                              Accounting    NaN  2024-06-28 18:00  76895248   \n",
       "\n",
       "                                  URL Exaction Location   District  \\\n",
       "0  https://hk.jobsdb.com/job/76912887            Fo Tan    Sha Tin   \n",
       "1  https://hk.jobsdb.com/job/76891214              None   Southern   \n",
       "2  https://hk.jobsdb.com/job/76586784              None  Tsuen Wan   \n",
       "3  https://hk.jobsdb.com/job/76864431         Kwun Tong  Kwun Tong   \n",
       "4  https://hk.jobsdb.com/job/76895248        Quarry Bay    Eastern   \n",
       "\n",
       "              Area  \n",
       "0  New Territories  \n",
       "1        Hong Kong  \n",
       "2  New Territories  \n",
       "3          Kowloon  \n",
       "4        Hong Kong  "
      ]
     },
     "execution_count": 138,
     "metadata": {},
     "output_type": "execute_result"
    }
   ],
   "source": [
    "df.head()"
   ]
  },
  {
   "cell_type": "code",
   "execution_count": 12,
   "metadata": {},
   "outputs": [
    {
     "ename": "KeyError",
     "evalue": "\"Only a column name can be used for the key in a dtype mappings argument. 'max' not found in columns.\"",
     "output_type": "error",
     "traceback": [
      "\u001b[0;31m---------------------------------------------------------------------------\u001b[0m",
      "\u001b[0;31mKeyError\u001b[0m                                  Traceback (most recent call last)",
      "\u001b[0;32m/var/folders/yx/t3vs9p5n0_b5cq0dr4dncg300000gn/T/ipykernel_3911/754038372.py\u001b[0m in \u001b[0;36m?\u001b[0;34m()\u001b[0m\n\u001b[1;32m     45\u001b[0m \u001b[0;31m#         min_salary = re.findall(r\"\\d+,?\", col)\u001b[0m\u001b[0;34m\u001b[0m\u001b[0;34m\u001b[0m\u001b[0m\n\u001b[1;32m     46\u001b[0m \u001b[0;31m# #         print(col)\u001b[0m\u001b[0;34m\u001b[0m\u001b[0;34m\u001b[0m\u001b[0m\n\u001b[1;32m     47\u001b[0m \u001b[0;31m#         print(min_salary)\u001b[0m\u001b[0;34m\u001b[0m\u001b[0;34m\u001b[0m\u001b[0m\n\u001b[1;32m     48\u001b[0m \u001b[0;34m\u001b[0m\u001b[0m\n\u001b[0;32m---> 49\u001b[0;31m \u001b[0mdf\u001b[0m\u001b[0;34m[\u001b[0m\u001b[0;34m[\u001b[0m\u001b[0;34m\"Min_Salary\"\u001b[0m\u001b[0;34m,\u001b[0m \u001b[0;34m\"Max_Salary\"\u001b[0m\u001b[0;34m]\u001b[0m\u001b[0;34m]\u001b[0m \u001b[0;34m=\u001b[0m \u001b[0mdf\u001b[0m\u001b[0;34m.\u001b[0m\u001b[0mapply\u001b[0m\u001b[0;34m(\u001b[0m\u001b[0;32mlambda\u001b[0m \u001b[0mrow\u001b[0m\u001b[0;34m:\u001b[0m \u001b[0mclean_salary\u001b[0m\u001b[0;34m(\u001b[0m\u001b[0mrow\u001b[0m\u001b[0;34m[\u001b[0m\u001b[0;34m\"Salary\"\u001b[0m\u001b[0;34m]\u001b[0m\u001b[0;34m)\u001b[0m\u001b[0;34m,\u001b[0m \u001b[0maxis\u001b[0m\u001b[0;34m=\u001b[0m\u001b[0;34m\"columns\"\u001b[0m\u001b[0;34m,\u001b[0m \u001b[0mresult_type\u001b[0m\u001b[0;34m=\u001b[0m\u001b[0;34m\"expand\"\u001b[0m\u001b[0;34m)\u001b[0m\u001b[0;34m.\u001b[0m\u001b[0mastype\u001b[0m\u001b[0;34m(\u001b[0m\u001b[0;34m{\u001b[0m\u001b[0;34m\"max\"\u001b[0m\u001b[0;34m:\u001b[0m\u001b[0;34m\"int\"\u001b[0m\u001b[0;34m,\u001b[0m \u001b[0;34m\"min\"\u001b[0m\u001b[0;34m:\u001b[0m\u001b[0;34m\"int\"\u001b[0m\u001b[0;34m}\u001b[0m\u001b[0;34m)\u001b[0m\u001b[0;34m\u001b[0m\u001b[0;34m\u001b[0m\u001b[0m\n\u001b[0m",
      "\u001b[0;32m~/Desktop/data/job/.conda/lib/python3.11/site-packages/pandas/core/generic.py\u001b[0m in \u001b[0;36m?\u001b[0;34m(self, dtype, copy, errors)\u001b[0m\n\u001b[1;32m   6601\u001b[0m             \u001b[0mdtype_ser\u001b[0m \u001b[0;34m=\u001b[0m \u001b[0mSeries\u001b[0m\u001b[0;34m(\u001b[0m\u001b[0mdtype\u001b[0m\u001b[0;34m,\u001b[0m \u001b[0mdtype\u001b[0m\u001b[0;34m=\u001b[0m\u001b[0mobject\u001b[0m\u001b[0;34m)\u001b[0m\u001b[0;34m\u001b[0m\u001b[0;34m\u001b[0m\u001b[0m\n\u001b[1;32m   6602\u001b[0m \u001b[0;34m\u001b[0m\u001b[0m\n\u001b[1;32m   6603\u001b[0m             \u001b[0;32mfor\u001b[0m \u001b[0mcol_name\u001b[0m \u001b[0;32min\u001b[0m \u001b[0mdtype_ser\u001b[0m\u001b[0;34m.\u001b[0m\u001b[0mindex\u001b[0m\u001b[0;34m:\u001b[0m\u001b[0;34m\u001b[0m\u001b[0;34m\u001b[0m\u001b[0m\n\u001b[1;32m   6604\u001b[0m                 \u001b[0;32mif\u001b[0m \u001b[0mcol_name\u001b[0m \u001b[0;32mnot\u001b[0m \u001b[0;32min\u001b[0m \u001b[0mself\u001b[0m\u001b[0;34m:\u001b[0m\u001b[0;34m\u001b[0m\u001b[0;34m\u001b[0m\u001b[0m\n\u001b[0;32m-> 6605\u001b[0;31m                     raise KeyError(\n\u001b[0m\u001b[1;32m   6606\u001b[0m                         \u001b[0;34m\"Only a column name can be used for the \"\u001b[0m\u001b[0;34m\u001b[0m\u001b[0;34m\u001b[0m\u001b[0m\n\u001b[1;32m   6607\u001b[0m                         \u001b[0;34m\"key in a dtype mappings argument. \"\u001b[0m\u001b[0;34m\u001b[0m\u001b[0;34m\u001b[0m\u001b[0m\n\u001b[1;32m   6608\u001b[0m                         \u001b[0;34mf\"'{col_name}' not found in columns.\"\u001b[0m\u001b[0;34m\u001b[0m\u001b[0;34m\u001b[0m\u001b[0m\n",
      "\u001b[0;31mKeyError\u001b[0m: \"Only a column name can be used for the key in a dtype mappings argument. 'max' not found in columns.\""
     ]
    }
   ],
   "source": [
    "# print(np.where(pd.isnull(df[\"Salary\"])))\n",
    "# df[\"Salary\"] = df[\"Salary\"].apply(lambda row: print(row))\n",
    "def clean_salary(salary):\n",
    "        salary_min_max = dict.fromkeys([\"min\", \"max\"], 0)\n",
    "        # print(salary_min_max)\n",
    "\n",
    "        if not pd.isnull(salary) and re.search(r\"-|\\^d+$\", salary):\n",
    "        # if not pd.isnull(salary) and re.match(r\"\\d+\\w*\\s?-\\s?\\$?\\w*\\d+|^\\d+$\", salary):\n",
    "                # print(salary)\n",
    "                # Remove digit separators in numbers\n",
    "                salary_cleaned = salary.replace(\",\", \"\")\n",
    "                # digit_abbr_exists = re.search(r\"\\d+\\s?[kK]\", salary_cleaned)\n",
    "                \n",
    "                # Remove decimcal places in numbers\n",
    "                salary_cleaned = re.sub(r\"\\.(.*?[0]*)\", \"\", salary_cleaned)\n",
    "\n",
    "                # Replace digit abbr. with actual digits\n",
    "                salary_cleaned = re.sub(r\"(\\d+)\\s?[Kk]|(\\d{1,3})(?!\\d+)(?=-)\", r\"\\g<1>\\g<2>000\", salary_cleaned)\n",
    "                # salary_cleaned = re.sub(r\"(\\d{1,3})(?!\\d+)(?=-)\", r\"\\g<1>000\", salary_cleaned)\n",
    "                # print(salary_cleaned)\n",
    "                # if digit_abbr_exists:\n",
    "                #         digit_abbr_index = digit_abbr_exists.span()\n",
    "                #         # print(digit_abbr_index, digit_abbr_exists.group)\n",
    "                        # salary_cleaned = salary_cleaned.lower()[digit_abbr_index[0]:digit_abbr_index[1]+1].replace(\"k\", \"000\") + salary_cleaned[digit_abbr_index[1]+1:]\n",
    "                # print(salary, \" ---- \",salary_cleaned)\n",
    "\n",
    "                # # Add missing digit abbr.\n",
    "                # salary_abbr_missing = re.findall(r\"(\\d+).?\\d*\\s*-\", salary_cleaned)\n",
    "                # if salary_abbr_missing:\n",
    "                #         salary_cleaned\n",
    "\n",
    "                salaries = re.findall(r\"\\d+\", salary_cleaned)\n",
    "                salaries = [int(x) for x in salaries]\n",
    "                # print(salaries, \"\\n\")\n",
    "                if len(salaries):\n",
    "                        salary_min_max[\"max\"] = salaries[1]\n",
    "                        salary_min_max[\"min\"] = salaries[0]\n",
    "        return salary_min_max\n",
    "\n",
    "\n",
    "# for col in df[\"Salary\"]:\n",
    "#     if not pd.isnull(col):\n",
    "#         # print(col)\n",
    "#         # print(col.replace(\",\", \"\"))\n",
    "#         min_salary = re.findall(r\"\\d+,?\", col)\n",
    "# #         print(col)\n",
    "#         print(min_salary)\n",
    "\n",
    "df[[\"Min_Salary\", \"Max_Salary\"]] = df.apply(lambda row: clean_salary(row[\"Salary\"]), axis=\"columns\", result_type=\"expand\").astype({\"max\":\"int\", \"min\":\"int\"})"
   ]
  },
  {
   "cell_type": "code",
   "execution_count": 13,
   "metadata": {},
   "outputs": [
    {
     "data": {
      "text/html": [
       "<div>\n",
       "<style scoped>\n",
       "    .dataframe tbody tr th:only-of-type {\n",
       "        vertical-align: middle;\n",
       "    }\n",
       "\n",
       "    .dataframe tbody tr th {\n",
       "        vertical-align: top;\n",
       "    }\n",
       "\n",
       "    .dataframe thead th {\n",
       "        text-align: right;\n",
       "    }\n",
       "</style>\n",
       "<table border=\"1\" class=\"dataframe\">\n",
       "  <thead>\n",
       "    <tr style=\"text-align: right;\">\n",
       "      <th></th>\n",
       "      <th>Title</th>\n",
       "      <th>Company</th>\n",
       "      <th>Min. Years of Exp. Required</th>\n",
       "      <th>Fresh Grad</th>\n",
       "      <th>Location</th>\n",
       "      <th>Classification</th>\n",
       "      <th>Salary</th>\n",
       "      <th>Posted Date</th>\n",
       "      <th>Job ID</th>\n",
       "      <th>URL</th>\n",
       "    </tr>\n",
       "  </thead>\n",
       "  <tbody>\n",
       "  </tbody>\n",
       "</table>\n",
       "</div>"
      ],
      "text/plain": [
       "Empty DataFrame\n",
       "Columns: [Title, Company, Min. Years of Exp. Required, Fresh Grad, Location, Classification, Salary, Posted Date, Job ID, URL]\n",
       "Index: []"
      ]
     },
     "execution_count": 13,
     "metadata": {},
     "output_type": "execute_result"
    }
   ],
   "source": [
    "df.head()"
   ]
  },
  {
   "cell_type": "code",
   "execution_count": 14,
   "metadata": {},
   "outputs": [
    {
     "ename": "KeyError",
     "evalue": "'Min_Salary'",
     "output_type": "error",
     "traceback": [
      "\u001b[0;31m---------------------------------------------------------------------------\u001b[0m",
      "\u001b[0;31mKeyError\u001b[0m                                  Traceback (most recent call last)",
      "File \u001b[0;32m~/Desktop/data/job/.conda/lib/python3.11/site-packages/pandas/core/indexes/base.py:3805\u001b[0m, in \u001b[0;36mIndex.get_loc\u001b[0;34m(self, key)\u001b[0m\n\u001b[1;32m   3804\u001b[0m \u001b[38;5;28;01mtry\u001b[39;00m:\n\u001b[0;32m-> 3805\u001b[0m     \u001b[38;5;28;01mreturn\u001b[39;00m \u001b[38;5;28;43mself\u001b[39;49m\u001b[38;5;241;43m.\u001b[39;49m\u001b[43m_engine\u001b[49m\u001b[38;5;241;43m.\u001b[39;49m\u001b[43mget_loc\u001b[49m\u001b[43m(\u001b[49m\u001b[43mcasted_key\u001b[49m\u001b[43m)\u001b[49m\n\u001b[1;32m   3806\u001b[0m \u001b[38;5;28;01mexcept\u001b[39;00m \u001b[38;5;167;01mKeyError\u001b[39;00m \u001b[38;5;28;01mas\u001b[39;00m err:\n",
      "File \u001b[0;32mindex.pyx:167\u001b[0m, in \u001b[0;36mpandas._libs.index.IndexEngine.get_loc\u001b[0;34m()\u001b[0m\n",
      "File \u001b[0;32mindex.pyx:196\u001b[0m, in \u001b[0;36mpandas._libs.index.IndexEngine.get_loc\u001b[0;34m()\u001b[0m\n",
      "File \u001b[0;32mpandas/_libs/hashtable_class_helper.pxi:7081\u001b[0m, in \u001b[0;36mpandas._libs.hashtable.PyObjectHashTable.get_item\u001b[0;34m()\u001b[0m\n",
      "File \u001b[0;32mpandas/_libs/hashtable_class_helper.pxi:7089\u001b[0m, in \u001b[0;36mpandas._libs.hashtable.PyObjectHashTable.get_item\u001b[0;34m()\u001b[0m\n",
      "\u001b[0;31mKeyError\u001b[0m: 'Min_Salary'",
      "\nThe above exception was the direct cause of the following exception:\n",
      "\u001b[0;31mKeyError\u001b[0m                                  Traceback (most recent call last)",
      "Cell \u001b[0;32mIn[14], line 1\u001b[0m\n\u001b[0;32m----> 1\u001b[0m plt\u001b[38;5;241m.\u001b[39mscatter(x\u001b[38;5;241m=\u001b[39mdf[\u001b[38;5;124m\"\u001b[39m\u001b[38;5;124mMin. Years of Exp. Required\u001b[39m\u001b[38;5;124m\"\u001b[39m], y\u001b[38;5;241m=\u001b[39m\u001b[43mdf\u001b[49m\u001b[43m[\u001b[49m\u001b[38;5;124;43m\"\u001b[39;49m\u001b[38;5;124;43mMin_Salary\u001b[39;49m\u001b[38;5;124;43m\"\u001b[39;49m\u001b[43m]\u001b[49m)\n\u001b[1;32m      2\u001b[0m plt\u001b[38;5;241m.\u001b[39mtitle(\u001b[38;5;124m\"\u001b[39m\u001b[38;5;124mMin. Years of Exp. Required vs. Min Salary\u001b[39m\u001b[38;5;124m\"\u001b[39m)\n\u001b[1;32m      3\u001b[0m plt\u001b[38;5;241m.\u001b[39mxlabel(\u001b[38;5;124m\"\u001b[39m\u001b[38;5;124mMin. Years of Exp. Required\u001b[39m\u001b[38;5;124m\"\u001b[39m)\n",
      "File \u001b[0;32m~/Desktop/data/job/.conda/lib/python3.11/site-packages/pandas/core/frame.py:4102\u001b[0m, in \u001b[0;36mDataFrame.__getitem__\u001b[0;34m(self, key)\u001b[0m\n\u001b[1;32m   4100\u001b[0m \u001b[38;5;28;01mif\u001b[39;00m \u001b[38;5;28mself\u001b[39m\u001b[38;5;241m.\u001b[39mcolumns\u001b[38;5;241m.\u001b[39mnlevels \u001b[38;5;241m>\u001b[39m \u001b[38;5;241m1\u001b[39m:\n\u001b[1;32m   4101\u001b[0m     \u001b[38;5;28;01mreturn\u001b[39;00m \u001b[38;5;28mself\u001b[39m\u001b[38;5;241m.\u001b[39m_getitem_multilevel(key)\n\u001b[0;32m-> 4102\u001b[0m indexer \u001b[38;5;241m=\u001b[39m \u001b[38;5;28;43mself\u001b[39;49m\u001b[38;5;241;43m.\u001b[39;49m\u001b[43mcolumns\u001b[49m\u001b[38;5;241;43m.\u001b[39;49m\u001b[43mget_loc\u001b[49m\u001b[43m(\u001b[49m\u001b[43mkey\u001b[49m\u001b[43m)\u001b[49m\n\u001b[1;32m   4103\u001b[0m \u001b[38;5;28;01mif\u001b[39;00m is_integer(indexer):\n\u001b[1;32m   4104\u001b[0m     indexer \u001b[38;5;241m=\u001b[39m [indexer]\n",
      "File \u001b[0;32m~/Desktop/data/job/.conda/lib/python3.11/site-packages/pandas/core/indexes/base.py:3812\u001b[0m, in \u001b[0;36mIndex.get_loc\u001b[0;34m(self, key)\u001b[0m\n\u001b[1;32m   3807\u001b[0m     \u001b[38;5;28;01mif\u001b[39;00m \u001b[38;5;28misinstance\u001b[39m(casted_key, \u001b[38;5;28mslice\u001b[39m) \u001b[38;5;129;01mor\u001b[39;00m (\n\u001b[1;32m   3808\u001b[0m         \u001b[38;5;28misinstance\u001b[39m(casted_key, abc\u001b[38;5;241m.\u001b[39mIterable)\n\u001b[1;32m   3809\u001b[0m         \u001b[38;5;129;01mand\u001b[39;00m \u001b[38;5;28many\u001b[39m(\u001b[38;5;28misinstance\u001b[39m(x, \u001b[38;5;28mslice\u001b[39m) \u001b[38;5;28;01mfor\u001b[39;00m x \u001b[38;5;129;01min\u001b[39;00m casted_key)\n\u001b[1;32m   3810\u001b[0m     ):\n\u001b[1;32m   3811\u001b[0m         \u001b[38;5;28;01mraise\u001b[39;00m InvalidIndexError(key)\n\u001b[0;32m-> 3812\u001b[0m     \u001b[38;5;28;01mraise\u001b[39;00m \u001b[38;5;167;01mKeyError\u001b[39;00m(key) \u001b[38;5;28;01mfrom\u001b[39;00m \u001b[38;5;21;01merr\u001b[39;00m\n\u001b[1;32m   3813\u001b[0m \u001b[38;5;28;01mexcept\u001b[39;00m \u001b[38;5;167;01mTypeError\u001b[39;00m:\n\u001b[1;32m   3814\u001b[0m     \u001b[38;5;66;03m# If we have a listlike key, _check_indexing_error will raise\u001b[39;00m\n\u001b[1;32m   3815\u001b[0m     \u001b[38;5;66;03m#  InvalidIndexError. Otherwise we fall through and re-raise\u001b[39;00m\n\u001b[1;32m   3816\u001b[0m     \u001b[38;5;66;03m#  the TypeError.\u001b[39;00m\n\u001b[1;32m   3817\u001b[0m     \u001b[38;5;28mself\u001b[39m\u001b[38;5;241m.\u001b[39m_check_indexing_error(key)\n",
      "\u001b[0;31mKeyError\u001b[0m: 'Min_Salary'"
     ]
    }
   ],
   "source": [
    "plt.scatter(x=df[\"Min. Years of Exp. Required\"], y=df[\"Min_Salary\"])\n",
    "plt.title(\"Min. Years of Exp. Required vs. Min Salary\")\n",
    "plt.xlabel(\"Min. Years of Exp. Required\")\n",
    "plt.ylabel(\"Min Salary (HKD)\")\n",
    "plt.show()"
   ]
  },
  {
   "cell_type": "code",
   "execution_count": 15,
   "metadata": {},
   "outputs": [
    {
     "name": "stderr",
     "output_type": "stream",
     "text": [
      "/Users/heiinhei/Desktop/data/job/.conda/lib/python3.11/site-packages/seaborn/matrix.py:202: RuntimeWarning: All-NaN slice encountered\n",
      "  vmin = np.nanmin(calc_data)\n",
      "/Users/heiinhei/Desktop/data/job/.conda/lib/python3.11/site-packages/seaborn/matrix.py:207: RuntimeWarning: All-NaN slice encountered\n",
      "  vmax = np.nanmax(calc_data)\n"
     ]
    },
    {
     "data": {
      "image/png": "[encoded data removed]",
      "text/plain": [
       "<Figure size 640x480 with 2 Axes>"
      ]
     },
     "metadata": {},
     "output_type": "display_data"
    }
   ],
   "source": [
    "corr_matrix = df.corr(numeric_only=True)\n",
    "sns.heatmap(corr_matrix, annot=True)\n",
    "plt.show()\n"
   ]
  },
  {
   "cell_type": "code",
   "execution_count": 16,
   "metadata": {},
   "outputs": [
    {
     "data": {
      "text/html": [
       "<div>\n",
       "<style scoped>\n",
       "    .dataframe tbody tr th:only-of-type {\n",
       "        vertical-align: middle;\n",
       "    }\n",
       "\n",
       "    .dataframe tbody tr th {\n",
       "        vertical-align: top;\n",
       "    }\n",
       "\n",
       "    .dataframe thead th {\n",
       "        text-align: right;\n",
       "    }\n",
       "</style>\n",
       "<table border=\"1\" class=\"dataframe\">\n",
       "  <thead>\n",
       "    <tr style=\"text-align: right;\">\n",
       "      <th></th>\n",
       "      <th>Title</th>\n",
       "      <th>Company</th>\n",
       "      <th>Min. Years of Exp. Required</th>\n",
       "      <th>Fresh Grad</th>\n",
       "      <th>Location</th>\n",
       "      <th>Classification</th>\n",
       "      <th>Salary</th>\n",
       "      <th>Posted Date</th>\n",
       "      <th>Job ID</th>\n",
       "      <th>URL</th>\n",
       "    </tr>\n",
       "  </thead>\n",
       "  <tbody>\n",
       "  </tbody>\n",
       "</table>\n",
       "</div>"
      ],
      "text/plain": [
       "Empty DataFrame\n",
       "Columns: [Title, Company, Min. Years of Exp. Required, Fresh Grad, Location, Classification, Salary, Posted Date, Job ID, URL]\n",
       "Index: []"
      ]
     },
     "execution_count": 16,
     "metadata": {},
     "output_type": "execute_result"
    }
   ],
   "source": [
    "df_numerized = copy.deepcopy(df)\n",
    "\n",
    "for col in df_numerized.columns:\n",
    "    if(df_numerized[col].dtype == \"object\"):\n",
    "        df_numerized[col] = df_numerized[col].astype(\"category\")\n",
    "        df_numerized[col] = df_numerized[col].cat.codes\n",
    "\n",
    "df_numerized.head()"
   ]
  },
  {
   "cell_type": "code",
   "execution_count": 17,
   "metadata": {},
   "outputs": [
    {
     "name": "stderr",
     "output_type": "stream",
     "text": [
      "/Users/heiinhei/Desktop/data/job/.conda/lib/python3.11/site-packages/seaborn/matrix.py:202: RuntimeWarning: All-NaN slice encountered\n",
      "  vmin = np.nanmin(calc_data)\n",
      "/Users/heiinhei/Desktop/data/job/.conda/lib/python3.11/site-packages/seaborn/matrix.py:207: RuntimeWarning: All-NaN slice encountered\n",
      "  vmax = np.nanmax(calc_data)\n"
     ]
    },
    {
     "data": {
      "image/png": "[encoded data removed]",
      "text/plain": [
       "<Figure size 640x480 with 2 Axes>"
      ]
     },
     "metadata": {},
     "output_type": "display_data"
    }
   ],
   "source": [
    "corr_matrix = df.corr(numeric_only=True)\n",
    "sns.heatmap(corr_matrix, annot=True)\n",
    "plt.show()\n"
   ]
  },
  {
   "cell_type": "code",
   "execution_count": 18,
   "metadata": {},
   "outputs": [
    {
     "name": "stdout",
     "output_type": "stream",
     "text": [
      "\n",
      "\n",
      "saved\n"
     ]
    }
   ],
   "source": [
    "df.to_csv(\"./ba-analysis.csv\", index=False)\n",
    "print(\"\\n\\nsaved\")"
   ]
  },
  {
   "cell_type": "code",
   "execution_count": null,
   "metadata": {},
   "outputs": [],
   "source": []
  }
 ],
 "metadata": {
  "kernelspec": {
   "display_name": "Python 3",
   "language": "python",
   "name": "python3"
  },
  "language_info": {
   "codemirror_mode": {
    "name": "ipython",
    "version": 3
   },
   "file_extension": ".py",
   "mimetype": "text/x-python",
   "name": "python",
   "nbconvert_exporter": "python",
   "pygments_lexer": "ipython3",
   "version": "3.11.9"
  }
 },
 "nbformat": 4,
 "nbformat_minor": 2
}
